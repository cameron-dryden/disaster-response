{
 "cells": [
  {
   "cell_type": "markdown",
   "metadata": {},
   "source": [
    "# ML Pipeline Preparation\n",
    "Follow the instructions below to help you create your ML pipeline.\n",
    "### 1. Import libraries and load data from database.\n",
    "- Import Python libraries\n",
    "- Load dataset from database with [`read_sql_table`](https://pandas.pydata.org/pandas-docs/stable/generated/pandas.read_sql_table.html)\n",
    "- Define feature and target variables X and Y"
   ]
  },
  {
   "cell_type": "code",
   "execution_count": 24,
   "metadata": {},
   "outputs": [
    {
     "name": "stderr",
     "output_type": "stream",
     "text": [
      "[nltk_data] Downloading package punkt to\n",
      "[nltk_data]     C:\\Users\\camer\\AppData\\Roaming\\nltk_data...\n",
      "[nltk_data]   Package punkt is already up-to-date!\n",
      "[nltk_data] Downloading package wordnet to\n",
      "[nltk_data]     C:\\Users\\camer\\AppData\\Roaming\\nltk_data...\n",
      "[nltk_data]   Package wordnet is already up-to-date!\n",
      "[nltk_data] Downloading package averaged_perceptron_tagger to\n",
      "[nltk_data]     C:\\Users\\camer\\AppData\\Roaming\\nltk_data...\n",
      "[nltk_data]   Package averaged_perceptron_tagger is already up-to-\n",
      "[nltk_data]       date!\n"
     ]
    },
    {
     "data": {
      "text/plain": [
       "True"
      ]
     },
     "execution_count": 24,
     "metadata": {},
     "output_type": "execute_result"
    }
   ],
   "source": [
    "# import libraries\n",
    "import pandas as pd\n",
    "import numpy as np\n",
    "from sqlalchemy import create_engine\n",
    "import re\n",
    "import nltk\n",
    "from nltk.tokenize import word_tokenize\n",
    "from nltk.stem import WordNetLemmatizer\n",
    "from sklearn.feature_extraction.text import CountVectorizer, TfidfTransformer\n",
    "from sklearn.ensemble import RandomForestClassifier\n",
    "from sklearn.multioutput import MultiOutputClassifier\n",
    "from sklearn.pipeline import Pipeline\n",
    "from sklearn.model_selection import train_test_split\n",
    "from sklearn.metrics import classification_report\n",
    "from sklearn.model_selection import GridSearchCV\n",
    "import pickle\n",
    "\n",
    "\n",
    "nltk.download(['punkt', 'wordnet', 'averaged_perceptron_tagger'])"
   ]
  },
  {
   "cell_type": "code",
   "execution_count": 2,
   "metadata": {},
   "outputs": [],
   "source": [
    "# load data from database\n",
    "engine = create_engine('sqlite:///DisasterResponse.db')\n",
    "df = pd.read_sql_table(\"DisasterResponse\", engine)\n",
    "X = df[\"message\"]\n",
    "Y = df.iloc[:, 4:]"
   ]
  },
  {
   "cell_type": "markdown",
   "metadata": {},
   "source": [
    "### 2. Write a tokenization function to process your text data"
   ]
  },
  {
   "cell_type": "code",
   "execution_count": 3,
   "metadata": {},
   "outputs": [],
   "source": [
    "def tokenize(text: str):\n",
    "    text = text.lower()\n",
    "    text = re.sub(r\"[^a-zA-Z0-9]\", \" \", text)\n",
    "    text = re.sub('http[s]?://(?:[a-zA-Z]|[0-9]|[$-_@.&+]|[!*\\(\\),]|(?:%[0-9a-fA-F][0-9a-fA-F]))+', \"urlplaceholder\", text)\n",
    "\n",
    "    words = word_tokenize(text)\n",
    "\n",
    "    lemmatizer = WordNetLemmatizer()\n",
    "    cleaned_tokens = []\n",
    "    [cleaned_tokens.append(lemmatizer.lemmatize(word).strip()) for word in words]\n",
    "    \n",
    "    return cleaned_tokens"
   ]
  },
  {
   "cell_type": "markdown",
   "metadata": {},
   "source": [
    "### 3. Build a machine learning pipeline\n",
    "This machine pipeline should take in the `message` column as input and output classification results on the other 36 categories in the dataset. You may find the [MultiOutputClassifier](http://scikit-learn.org/stable/modules/generated/sklearn.multioutput.MultiOutputClassifier.html) helpful for predicting multiple target variables."
   ]
  },
  {
   "cell_type": "code",
   "execution_count": 4,
   "metadata": {},
   "outputs": [],
   "source": [
    "pipeline = Pipeline([\n",
    "    (\"count_vect\", CountVectorizer(tokenizer = tokenize)),\n",
    "    (\"tfidf\", TfidfTransformer()),\n",
    "    (\"clf\", MultiOutputClassifier(RandomForestClassifier()))\n",
    "])"
   ]
  },
  {
   "cell_type": "markdown",
   "metadata": {},
   "source": [
    "### 4. Train pipeline\n",
    "- Split data into train and test sets\n",
    "- Train pipeline"
   ]
  },
  {
   "cell_type": "code",
   "execution_count": 5,
   "metadata": {},
   "outputs": [
    {
     "data": {
      "text/plain": [
       "Pipeline(steps=[('count_vect',\n",
       "                 CountVectorizer(tokenizer=<function tokenize at 0x000001C7FB690EE0>)),\n",
       "                ('tfidf', TfidfTransformer()),\n",
       "                ('clf',\n",
       "                 MultiOutputClassifier(estimator=RandomForestClassifier()))])"
      ]
     },
     "execution_count": 5,
     "metadata": {},
     "output_type": "execute_result"
    }
   ],
   "source": [
    "X_train, X_test, y_train, y_test = train_test_split(X, Y, random_state = 42)\n",
    "\n",
    "pipeline.fit(X_train, y_train)"
   ]
  },
  {
   "cell_type": "markdown",
   "metadata": {},
   "source": [
    "### 5. Test your model\n",
    "Report the f1 score, precision and recall for each output category of the dataset. You can do this by iterating through the columns and calling sklearn's `classification_report` on each."
   ]
  },
  {
   "cell_type": "code",
   "execution_count": 6,
   "metadata": {},
   "outputs": [],
   "source": [
    "y_pred = pipeline.predict(X_test)"
   ]
  },
  {
   "cell_type": "code",
   "execution_count": 7,
   "metadata": {},
   "outputs": [
    {
     "name": "stdout",
     "output_type": "stream",
     "text": [
      "Related:\n",
      "f1 score: 0.76, precision: 0.78, recall: 0.79\n",
      "\n",
      "Request:\n",
      "f1 score: 0.88, precision: 0.89, recall: 0.89\n",
      "\n",
      "Offer:\n",
      "f1 score: 0.99, precision: 0.99, recall: 0.99\n",
      "\n",
      "Aid_related:\n",
      "f1 score: 0.77, precision: 0.77, recall: 0.77\n",
      "\n",
      "Medical_help:\n",
      "f1 score: 0.89, precision: 0.91, recall: 0.92\n",
      "\n",
      "Medical_products:\n",
      "f1 score: 0.93, precision: 0.94, recall: 0.95\n",
      "\n",
      "Search_and_rescue:\n",
      "f1 score: 0.97, precision: 0.97, recall: 0.98\n",
      "\n",
      "Security:\n",
      "f1 score: 0.97, precision: 0.97, recall: 0.98\n",
      "\n",
      "Military:\n",
      "f1 score: 0.96, precision: 0.96, recall: 0.97\n",
      "\n",
      "Child_alone:\n",
      "f1 score: 1.0, precision: 1.0, recall: 1.0\n",
      "\n",
      "Water:\n",
      "f1 score: 0.94, precision: 0.95, recall: 0.95\n",
      "\n",
      "Food:\n",
      "f1 score: 0.91, precision: 0.92, recall: 0.93\n",
      "\n",
      "Shelter:\n",
      "f1 score: 0.92, precision: 0.93, recall: 0.93\n",
      "\n",
      "Clothing:\n",
      "f1 score: 0.98, precision: 0.99, recall: 0.99\n",
      "\n",
      "Money:\n",
      "f1 score: 0.97, precision: 0.98, recall: 0.98\n",
      "\n",
      "Missing_people:\n",
      "f1 score: 0.98, precision: 0.99, recall: 0.99\n",
      "\n",
      "Refugees:\n",
      "f1 score: 0.95, precision: 0.95, recall: 0.97\n",
      "\n",
      "Death:\n",
      "f1 score: 0.94, precision: 0.95, recall: 0.96\n",
      "\n",
      "Other_aid:\n",
      "f1 score: 0.81, precision: 0.85, recall: 0.87\n",
      "\n",
      "Infrastructure_related:\n",
      "f1 score: 0.91, precision: 0.88, recall: 0.94\n",
      "\n",
      "Transport:\n",
      "f1 score: 0.94, precision: 0.95, recall: 0.96\n",
      "\n",
      "Buildings:\n",
      "f1 score: 0.93, precision: 0.95, recall: 0.95\n",
      "\n",
      "Electricity:\n",
      "f1 score: 0.97, precision: 0.98, recall: 0.98\n",
      "\n",
      "Tools:\n",
      "f1 score: 0.99, precision: 0.99, recall: 0.99\n",
      "\n",
      "Hospitals:\n",
      "f1 score: 0.99, precision: 0.98, recall: 0.99\n",
      "\n",
      "Shops:\n",
      "f1 score: 0.99, precision: 0.99, recall: 1.0\n",
      "\n",
      "Aid_centers:\n",
      "f1 score: 0.98, precision: 0.98, recall: 0.99\n",
      "\n",
      "Other_infrastructure:\n",
      "f1 score: 0.94, precision: 0.96, recall: 0.96\n",
      "\n",
      "Weather_related:\n",
      "f1 score: 0.87, precision: 0.87, recall: 0.87\n",
      "\n",
      "Floods:\n",
      "f1 score: 0.94, precision: 0.95, recall: 0.95\n",
      "\n",
      "Storm:\n",
      "f1 score: 0.93, precision: 0.93, recall: 0.94\n",
      "\n",
      "Fire:\n",
      "f1 score: 0.98, precision: 0.98, recall: 0.99\n",
      "\n",
      "Earthquake:\n",
      "f1 score: 0.97, precision: 0.97, recall: 0.97\n",
      "\n",
      "Cold:\n",
      "f1 score: 0.97, precision: 0.98, recall: 0.98\n",
      "\n",
      "Other_weather:\n",
      "f1 score: 0.93, precision: 0.95, recall: 0.95\n",
      "\n",
      "Direct_report:\n",
      "f1 score: 0.83, precision: 0.86, recall: 0.86\n",
      "\n",
      "Overall Model Performance:\n",
      "f1 score: 0.9327094554901123, precision: 0.9393643140792847, recall: 0.9463727474212646\n"
     ]
    }
   ],
   "source": [
    "def display_results(y_pred, y_test, dense: bool = False):\n",
    "    avg_model_score = np.asarray([0, 0, 0], dtype = np.float32)\n",
    "\n",
    "    for i in range(y_pred.shape[1]):\n",
    "        report = classification_report(y_test.iloc[:, i], pd.DataFrame(y_pred).iloc[:, i], output_dict=True, zero_division=0)['weighted avg']\n",
    "    \n",
    "        avg_model_score[0] += report['f1-score']\n",
    "        avg_model_score[1] += report['precision']\n",
    "        avg_model_score[2] += report['recall']\n",
    "\n",
    "        if not dense:\n",
    "            print(y_test.columns[i].capitalize() + \":\")\n",
    "            print(f\"f1 score: {round(report['f1-score'], 2)}, precision: {round(report['precision'], 2)}, recall: {round(report['recall'], 2)}\")\n",
    "            print()\n",
    "\n",
    "    avg_model_score = avg_model_score / y_pred.shape[1]\n",
    "    print(\"Overall Model Performance:\")\n",
    "    print(f\"f1 score: {avg_model_score[0]}, precision: {avg_model_score[1]}, recall: {avg_model_score[2]}\")\n",
    "\n",
    "display_results(y_pred, y_test)"
   ]
  },
  {
   "cell_type": "markdown",
   "metadata": {},
   "source": [
    "### 6. Improve your model\n",
    "Use grid search to find better parameters. "
   ]
  },
  {
   "cell_type": "code",
   "execution_count": 8,
   "metadata": {},
   "outputs": [],
   "source": [
    "parameters = {\n",
    "        'count_vect__ngram_range': ((1, 1), (1, 2)),\n",
    "        'clf__estimator__n_estimators': [50, 100, 200],\n",
    "        'clf__estimator__min_samples_split': [2, 3, 4]\n",
    "    }\n",
    "\n",
    "cv = GridSearchCV(pipeline, param_grid=parameters)"
   ]
  },
  {
   "cell_type": "markdown",
   "metadata": {},
   "source": [
    "### 7. Test your model\n",
    "Show the accuracy, precision, and recall of the tuned model.  \n",
    "\n",
    "Since this project focuses on code quality, process, and  pipelines, there is no minimum performance metric needed to pass. However, make sure to fine tune your models for accuracy, precision and recall to make your project stand out - especially for your portfolio!"
   ]
  },
  {
   "cell_type": "code",
   "execution_count": 9,
   "metadata": {},
   "outputs": [
    {
     "data": {
      "text/plain": [
       "GridSearchCV(estimator=Pipeline(steps=[('count_vect',\n",
       "                                        CountVectorizer(tokenizer=<function tokenize at 0x000001C7FB690EE0>)),\n",
       "                                       ('tfidf', TfidfTransformer()),\n",
       "                                       ('clf',\n",
       "                                        MultiOutputClassifier(estimator=RandomForestClassifier()))]),\n",
       "             param_grid={'clf__estimator__min_samples_split': [2, 3, 4],\n",
       "                         'clf__estimator__n_estimators': [50, 100, 200],\n",
       "                         'count_vect__ngram_range': ((1, 1), (1, 2))})"
      ]
     },
     "execution_count": 9,
     "metadata": {},
     "output_type": "execute_result"
    }
   ],
   "source": [
    "cv.fit(X_train, y_train)"
   ]
  },
  {
   "cell_type": "code",
   "execution_count": 12,
   "metadata": {},
   "outputs": [
    {
     "data": {
      "text/plain": [
       "{'clf__estimator__min_samples_split': 2,\n",
       " 'clf__estimator__n_estimators': 200,\n",
       " 'count_vect__ngram_range': (1, 2)}"
      ]
     },
     "execution_count": 12,
     "metadata": {},
     "output_type": "execute_result"
    }
   ],
   "source": [
    "cv.best_params_"
   ]
  },
  {
   "cell_type": "code",
   "execution_count": 13,
   "metadata": {},
   "outputs": [],
   "source": [
    "y_cv_pred = cv.predict(X_test)"
   ]
  },
  {
   "cell_type": "code",
   "execution_count": 16,
   "metadata": {},
   "outputs": [
    {
     "name": "stdout",
     "output_type": "stream",
     "text": [
      "Overall Model Performance:\n",
      "f1 score: 0.9324206113815308, precision: 0.937678873538971, recall: 0.9460547566413879\n",
      "Overall Model Performance:\n",
      "f1 score: 0.9327094554901123, precision: 0.9393643140792847, recall: 0.9463727474212646\n"
     ]
    }
   ],
   "source": [
    "display_results(y_cv_pred, y_test, True)\n",
    "\n",
    "display_results(y_pred, y_test, True)"
   ]
  },
  {
   "cell_type": "markdown",
   "metadata": {},
   "source": [
    "### 8. Try improving your model further. Here are a few ideas:\n",
    "* try other machine learning algorithms\n",
    "* add other features besides the TF-IDF"
   ]
  },
  {
   "cell_type": "code",
   "execution_count": 18,
   "metadata": {},
   "outputs": [
    {
     "data": {
      "text/plain": [
       "Pipeline(steps=[('count_vect',\n",
       "                 CountVectorizer(tokenizer=<function tokenize at 0x000001C7FB690EE0>)),\n",
       "                ('tfidf', TfidfTransformer()),\n",
       "                ('clf', MultiOutputClassifier(estimator=MultinomialNB()))])"
      ]
     },
     "execution_count": 18,
     "metadata": {},
     "output_type": "execute_result"
    }
   ],
   "source": [
    "from sklearn.naive_bayes import MultinomialNB\n",
    "\n",
    "test_pipeline = Pipeline([\n",
    "    (\"count_vect\", CountVectorizer(tokenizer = tokenize)),\n",
    "    (\"tfidf\", TfidfTransformer()),\n",
    "    (\"clf\", MultiOutputClassifier(MultinomialNB()))\n",
    "])\n",
    "\n",
    "test_pipeline.fit(X_train, y_train)"
   ]
  },
  {
   "cell_type": "code",
   "execution_count": 21,
   "metadata": {},
   "outputs": [
    {
     "name": "stdout",
     "output_type": "stream",
     "text": [
      "Overall Model Performance:\n",
      "f1 score: 0.9124754667282104, precision: 0.9079838991165161, recall: 0.9357516765594482\n"
     ]
    }
   ],
   "source": [
    "y_test_pred = test_pipeline.predict(X_test)\n",
    "\n",
    "display_results(y_test_pred, y_test, True)"
   ]
  },
  {
   "cell_type": "code",
   "execution_count": 22,
   "metadata": {},
   "outputs": [
    {
     "name": "stdout",
     "output_type": "stream",
     "text": [
      "Overall Model Performance:\n",
      "f1 score: 0.9401010870933533, precision: 0.9393376111984253, recall: 0.9473898410797119\n"
     ]
    }
   ],
   "source": [
    "from sklearn.ensemble import AdaBoostClassifier\n",
    "\n",
    "ada_pipeline = Pipeline([\n",
    "    (\"count_vect\", CountVectorizer(tokenizer = tokenize)),\n",
    "    (\"tfidf\", TfidfTransformer()),\n",
    "    (\"clf\", MultiOutputClassifier(AdaBoostClassifier()))\n",
    "])\n",
    "\n",
    "ada_pipeline.fit(X_train, y_train)\n",
    "\n",
    "y_ada_pred = ada_pipeline.predict(X_test)\n",
    "display_results(y_ada_pred, y_test, True)"
   ]
  },
  {
   "cell_type": "markdown",
   "metadata": {},
   "source": [
    "### 9. Export your model as a pickle file"
   ]
  },
  {
   "cell_type": "code",
   "execution_count": 25,
   "metadata": {},
   "outputs": [],
   "source": [
    "pickle.dump(ada_pipeline, open(\"model.pkl\", 'wb'))"
   ]
  },
  {
   "cell_type": "markdown",
   "metadata": {},
   "source": [
    "### 10. Use this notebook to complete `train_classifier.py`\n",
    "Use the template file attached in the Resources folder to write a script that runs the steps above to create a database and export a model based on a new dataset specified by the user."
   ]
  },
  {
   "cell_type": "code",
   "execution_count": null,
   "metadata": {},
   "outputs": [],
   "source": []
  }
 ],
 "metadata": {
  "kernelspec": {
   "display_name": "Python 3",
   "language": "python",
   "name": "python3"
  },
  "language_info": {
   "codemirror_mode": {
    "name": "ipython",
    "version": 3
   },
   "file_extension": ".py",
   "mimetype": "text/x-python",
   "name": "python",
   "nbconvert_exporter": "python",
   "pygments_lexer": "ipython3",
   "version": "3.9.7"
  }
 },
 "nbformat": 4,
 "nbformat_minor": 2
}
